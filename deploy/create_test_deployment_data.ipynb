{
 "cells": [
  {
   "cell_type": "markdown",
   "id": "ac9844a4",
   "metadata": {},
   "source": [
    "The code below selects 10 random images from the test split of the CIFAR-100 dataset, resizes them to 75x75, and saves them as JPG files in a folder named \"test-deployment\" located at \"../data/clean-cifar-100-python\". Additionally, it saves the actual labels of the selected images into a file named \"labels.npy\" within the same folder."
   ]
  },
  {
   "cell_type": "code",
   "execution_count": 1,
   "id": "190f8f62",
   "metadata": {},
   "outputs": [],
   "source": [
    "import os\n",
    "import numpy as np\n",
    "import matplotlib.pyplot as plt"
   ]
  },
  {
   "cell_type": "code",
   "execution_count": 3,
   "id": "ad00da6c",
   "metadata": {},
   "outputs": [],
   "source": [
    "# Load the test data\n",
    "data_test = np.load('../data/clean-cifar-100-python/test/data.npy')\n",
    "label_test = np.load('../data/clean-cifar-100-python/test/labels.npy')"
   ]
  },
  {
   "cell_type": "code",
   "execution_count": 4,
   "id": "50c1f67f",
   "metadata": {},
   "outputs": [],
   "source": [
    "# Select 10 random images\n",
    "num_images = 10\n",
    "random_indices = np.random.choice(len(data_test), num_images, replace=False)\n",
    "selected_images = data_test[random_indices]\n",
    "selected_labels = label_test[random_indices]"
   ]
  },
  {
   "cell_type": "code",
   "execution_count": 5,
   "id": "271a17b7",
   "metadata": {},
   "outputs": [],
   "source": [
    "# Save the images as JPG files\n",
    "deployment_folder = '../data/clean-cifar-100-python/test-deployment'\n",
    "os.makedirs(deployment_folder, exist_ok=True)\n",
    "for i, image in enumerate(selected_images):\n",
    "    plt.imsave(f'{deployment_folder}/image_{i}.jpg', image)"
   ]
  },
  {
   "cell_type": "code",
   "execution_count": 6,
   "id": "06568aec",
   "metadata": {},
   "outputs": [],
   "source": [
    "# Save the labels\n",
    "np.save(f'{deployment_folder}/labels.npy', selected_labels)"
   ]
  },
  {
   "cell_type": "code",
   "execution_count": null,
   "id": "d5a1d28e",
   "metadata": {},
   "outputs": [],
   "source": []
  }
 ],
 "metadata": {
  "kernelspec": {
   "display_name": "Python 3 (ipykernel)",
   "language": "python",
   "name": "python3"
  },
  "language_info": {
   "codemirror_mode": {
    "name": "ipython",
    "version": 3
   },
   "file_extension": ".py",
   "mimetype": "text/x-python",
   "name": "python",
   "nbconvert_exporter": "python",
   "pygments_lexer": "ipython3",
   "version": "3.10.6"
  }
 },
 "nbformat": 4,
 "nbformat_minor": 5
}
